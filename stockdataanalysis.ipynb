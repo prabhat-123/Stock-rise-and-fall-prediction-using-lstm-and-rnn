{
 "cells": [
  {
   "cell_type": "markdown",
   "metadata": {
    "colab": {},
    "colab_type": "code",
    "id": "YS9ypvOqNMWb"
   },
   "source": [
    "# Importing Libraries"
   ]
  },
  {
   "cell_type": "code",
   "execution_count": 8,
   "metadata": {
    "colab": {},
    "colab_type": "code",
    "id": "P56JwPfFyDBZ"
   },
   "outputs": [],
   "source": [
    "import numpy as np\n",
    "import matplotlib.pyplot as plt\n",
    "import pandas as pd"
   ]
  },
  {
   "cell_type": "markdown",
   "metadata": {
    "colab": {},
    "colab_type": "code",
    "id": "pe--POZgK6oe"
   },
   "source": [
    "## Loading American AirLines Gropu lnc Stock Value"
   ]
  },
  {
   "cell_type": "code",
   "execution_count": 9,
   "metadata": {
    "colab": {},
    "colab_type": "code",
    "id": "tsJmUcSHQ0RU"
   },
   "outputs": [],
   "source": [
    "# path to csv file\n",
    "df = pd.read_csv(\"E:/deeplearning/RNNS/Stock Analysis/_content_individual_stocks_5yr_individual_stocks_5yr_AAL_data.csv\")"
   ]
  },
  {
   "cell_type": "markdown",
   "metadata": {},
   "source": [
    "### Printing first five rows of the dataframe"
   ]
  },
  {
   "cell_type": "code",
   "execution_count": 10,
   "metadata": {
    "colab": {
     "base_uri": "https://localhost:8080/",
     "height": 204
    },
    "colab_type": "code",
    "id": "Nkxsc-fjFbO2",
    "outputId": "543c1abd-b8fb-479c-94e1-d63ecb1b4108"
   },
   "outputs": [
    {
     "data": {
      "text/html": [
       "<div>\n",
       "<style scoped>\n",
       "    .dataframe tbody tr th:only-of-type {\n",
       "        vertical-align: middle;\n",
       "    }\n",
       "\n",
       "    .dataframe tbody tr th {\n",
       "        vertical-align: top;\n",
       "    }\n",
       "\n",
       "    .dataframe thead th {\n",
       "        text-align: right;\n",
       "    }\n",
       "</style>\n",
       "<table border=\"1\" class=\"dataframe\">\n",
       "  <thead>\n",
       "    <tr style=\"text-align: right;\">\n",
       "      <th></th>\n",
       "      <th>date</th>\n",
       "      <th>open</th>\n",
       "      <th>high</th>\n",
       "      <th>low</th>\n",
       "      <th>close</th>\n",
       "      <th>volume</th>\n",
       "      <th>Name</th>\n",
       "    </tr>\n",
       "  </thead>\n",
       "  <tbody>\n",
       "    <tr>\n",
       "      <td>0</td>\n",
       "      <td>2013-02-08</td>\n",
       "      <td>15.07</td>\n",
       "      <td>15.12</td>\n",
       "      <td>14.63</td>\n",
       "      <td>14.75</td>\n",
       "      <td>8407500</td>\n",
       "      <td>AAL</td>\n",
       "    </tr>\n",
       "    <tr>\n",
       "      <td>1</td>\n",
       "      <td>2013-02-11</td>\n",
       "      <td>14.89</td>\n",
       "      <td>15.01</td>\n",
       "      <td>14.26</td>\n",
       "      <td>14.46</td>\n",
       "      <td>8882000</td>\n",
       "      <td>AAL</td>\n",
       "    </tr>\n",
       "    <tr>\n",
       "      <td>2</td>\n",
       "      <td>2013-02-12</td>\n",
       "      <td>14.45</td>\n",
       "      <td>14.51</td>\n",
       "      <td>14.10</td>\n",
       "      <td>14.27</td>\n",
       "      <td>8126000</td>\n",
       "      <td>AAL</td>\n",
       "    </tr>\n",
       "    <tr>\n",
       "      <td>3</td>\n",
       "      <td>2013-02-13</td>\n",
       "      <td>14.30</td>\n",
       "      <td>14.94</td>\n",
       "      <td>14.25</td>\n",
       "      <td>14.66</td>\n",
       "      <td>10259500</td>\n",
       "      <td>AAL</td>\n",
       "    </tr>\n",
       "    <tr>\n",
       "      <td>4</td>\n",
       "      <td>2013-02-14</td>\n",
       "      <td>14.94</td>\n",
       "      <td>14.96</td>\n",
       "      <td>13.16</td>\n",
       "      <td>13.99</td>\n",
       "      <td>31879900</td>\n",
       "      <td>AAL</td>\n",
       "    </tr>\n",
       "  </tbody>\n",
       "</table>\n",
       "</div>"
      ],
      "text/plain": [
       "         date   open   high    low  close    volume Name\n",
       "0  2013-02-08  15.07  15.12  14.63  14.75   8407500  AAL\n",
       "1  2013-02-11  14.89  15.01  14.26  14.46   8882000  AAL\n",
       "2  2013-02-12  14.45  14.51  14.10  14.27   8126000  AAL\n",
       "3  2013-02-13  14.30  14.94  14.25  14.66  10259500  AAL\n",
       "4  2013-02-14  14.94  14.96  13.16  13.99  31879900  AAL"
      ]
     },
     "execution_count": 10,
     "metadata": {},
     "output_type": "execute_result"
    }
   ],
   "source": [
    "df.head()"
   ]
  },
  {
   "cell_type": "markdown",
   "metadata": {},
   "source": [
    "### Knowing the no. of rows and columns in a dataframe"
   ]
  },
  {
   "cell_type": "code",
   "execution_count": 11,
   "metadata": {
    "colab": {
     "base_uri": "https://localhost:8080/",
     "height": 34
    },
    "colab_type": "code",
    "id": "DiZVgyoLFlyT",
    "outputId": "d21fd4cd-0b82-4119-d8c6-45d2d23e8bed"
   },
   "outputs": [
    {
     "data": {
      "text/plain": [
       "(1259, 7)"
      ]
     },
     "execution_count": 11,
     "metadata": {},
     "output_type": "execute_result"
    }
   ],
   "source": [
    "df.shape"
   ]
  },
  {
   "cell_type": "code",
   "execution_count": 13,
   "metadata": {
    "colab": {},
    "colab_type": "code",
    "id": "Qlbpew4aGD18"
   },
   "outputs": [],
   "source": [
    "import datetime\n",
    "from datetime import datetime "
   ]
  },
  {
   "cell_type": "markdown",
   "metadata": {
    "colab": {},
    "colab_type": "code",
    "id": "LuaXguKwXBVE"
   },
   "source": [
    "### Converting date column into datetime datatype "
   ]
  },
  {
   "cell_type": "code",
   "execution_count": 14,
   "metadata": {
    "colab": {},
    "colab_type": "code",
    "id": "Oi2NHT2cMmCR"
   },
   "outputs": [],
   "source": [
    "df['date'] = pd.to_datetime(df['date'])"
   ]
  },
  {
   "cell_type": "code",
   "execution_count": 15,
   "metadata": {
    "colab": {
     "base_uri": "https://localhost:8080/",
     "height": 255
    },
    "colab_type": "code",
    "id": "2eBON1slW4rm",
    "outputId": "2207d92c-eaf9-4511-f33a-3255569c3aa9"
   },
   "outputs": [
    {
     "name": "stdout",
     "output_type": "stream",
     "text": [
      "<class 'pandas.core.frame.DataFrame'>\n",
      "RangeIndex: 1259 entries, 0 to 1258\n",
      "Data columns (total 7 columns):\n",
      "date      1259 non-null datetime64[ns]\n",
      "open      1259 non-null float64\n",
      "high      1259 non-null float64\n",
      "low       1259 non-null float64\n",
      "close     1259 non-null float64\n",
      "volume    1259 non-null int64\n",
      "Name      1259 non-null object\n",
      "dtypes: datetime64[ns](1), float64(4), int64(1), object(1)\n",
      "memory usage: 69.0+ KB\n"
     ]
    }
   ],
   "source": [
    "df.info()"
   ]
  },
  {
   "cell_type": "markdown",
   "metadata": {},
   "source": [
    "# Splitting the dataframe into train and test data.\n",
    "\n",
    "#### The stock value of a company from year 2013 to 2018 is taken as training data and the stock value of a company in year 2018 is taken as testing data"
   ]
  },
  {
   "cell_type": "code",
   "execution_count": 16,
   "metadata": {
    "colab": {},
    "colab_type": "code",
    "id": "YZgxypbsW4u9"
   },
   "outputs": [],
   "source": [
    "train_df = df[df['date'].between('2013-01-01','2018-01-01')]\n",
    "test_df = df[df['date'].between('2018-01-01','2018-02-08')]"
   ]
  },
  {
   "cell_type": "markdown",
   "metadata": {},
   "source": [
    "### Printing the number of rows and columns (i.e shapes) of training and testing data"
   ]
  },
  {
   "cell_type": "code",
   "execution_count": 17,
   "metadata": {
    "colab": {
     "base_uri": "https://localhost:8080/",
     "height": 51
    },
    "colab_type": "code",
    "id": "ReXfAJmyXUYk",
    "outputId": "cd8510ad-4831-40a1-807b-8153874a55f8"
   },
   "outputs": [
    {
     "name": "stdout",
     "output_type": "stream",
     "text": [
      "(1233, 7)\n",
      "(26, 7)\n"
     ]
    }
   ],
   "source": [
    "print(train_df.shape)\n",
    "print(test_df.shape)"
   ]
  },
  {
   "cell_type": "markdown",
   "metadata": {
    "colab": {},
    "colab_type": "code",
    "id": "_8VntHC9ibu7"
   },
   "source": [
    "## Use Opening Stock as an indicator to RNNS Stock market trend prediction"
   ]
  },
  {
   "cell_type": "code",
   "execution_count": 18,
   "metadata": {
    "colab": {},
    "colab_type": "code",
    "id": "r520Z0RZcoHY"
   },
   "outputs": [],
   "source": [
    "training_set = train_df.iloc[:,1:2].values"
   ]
  },
  {
   "cell_type": "markdown",
   "metadata": {},
   "source": [
    "#### The training set consists of 1233 rows and only one column (i.e Opening Stock)."
   ]
  },
  {
   "cell_type": "code",
   "execution_count": 19,
   "metadata": {
    "colab": {
     "base_uri": "https://localhost:8080/",
     "height": 34
    },
    "colab_type": "code",
    "id": "eJJYHCZHc8SO",
    "outputId": "8aae0c78-88d5-4990-d9b1-1282055a503f"
   },
   "outputs": [
    {
     "data": {
      "text/plain": [
       "(1233, 1)"
      ]
     },
     "execution_count": 19,
     "metadata": {},
     "output_type": "execute_result"
    }
   ],
   "source": [
    "training_set.shape"
   ]
  },
  {
   "cell_type": "markdown",
   "metadata": {
    "colab": {},
    "colab_type": "code",
    "id": "eDa7OQl_h6id"
   },
   "source": [
    "# Feature Scaling\n",
    "### Normalisation(Subtracting the xmin from x and dividing by xmax-xmin)"
   ]
  },
  {
   "cell_type": "code",
   "execution_count": 20,
   "metadata": {
    "colab": {},
    "colab_type": "code",
    "id": "5O0_kU6di1Zw"
   },
   "outputs": [],
   "source": [
    "from sklearn.preprocessing import MinMaxScaler"
   ]
  },
  {
   "cell_type": "markdown",
   "metadata": {},
   "source": [
    "## Scaling the values to a range of 0 to1 using minmax scaler.\n",
    "#### Formula :  x_scaled = (x - xmin)/(xmax - xmin)"
   ]
  },
  {
   "cell_type": "code",
   "execution_count": 21,
   "metadata": {
    "colab": {},
    "colab_type": "code",
    "id": "Q3WV4PyQi8mn"
   },
   "outputs": [],
   "source": [
    "sc = MinMaxScaler(feature_range=(0,1))\n"
   ]
  },
  {
   "cell_type": "code",
   "execution_count": 22,
   "metadata": {
    "colab": {},
    "colab_type": "code",
    "id": "RF6UzrsJjB2P"
   },
   "outputs": [],
   "source": [
    "training_set_scaled = sc.fit_transform(training_set)"
   ]
  },
  {
   "cell_type": "markdown",
   "metadata": {},
   "source": [
    "## After scaling the training set looks like this:"
   ]
  },
  {
   "cell_type": "code",
   "execution_count": 23,
   "metadata": {
    "colab": {
     "base_uri": "https://localhost:8080/",
     "height": 136
    },
    "colab_type": "code",
    "id": "DsOx2nkZjJVj",
    "outputId": "68e24151-d7f8-4c57-9682-66d9d4f33677"
   },
   "outputs": [
    {
     "data": {
      "text/plain": [
       "array([[0.0451462 ],\n",
       "       [0.04093567],\n",
       "       [0.03064327],\n",
       "       ...,\n",
       "       [0.9277193 ],\n",
       "       [0.91953216],\n",
       "       [0.91883041]])"
      ]
     },
     "execution_count": 23,
     "metadata": {},
     "output_type": "execute_result"
    }
   ],
   "source": [
    "training_set_scaled"
   ]
  },
  {
   "cell_type": "markdown",
   "metadata": {
    "colab": {},
    "colab_type": "code",
    "id": "7iAJ9aRHjTzZ"
   },
   "source": [
    "## Creating a data structure with 125 timesteps and 1 output\n",
    "#### Since we are using LSTM (Long Short Term Memory),LSTM is able to remember / memorize the recently occured data and here in our case we are assuming that our LSTM is able to remember / memorize the stock data of 125 days(i.e. time steps) to make a prediction of next day opening stock price."
   ]
  },
  {
   "cell_type": "code",
   "execution_count": 24,
   "metadata": {
    "colab": {},
    "colab_type": "code",
    "id": "eENQOxoDjitW"
   },
   "outputs": [],
   "source": [
    "X_train = []\n",
    "y_train = []\n",
    "for i in range(125,1233):\n",
    "  X_train.append(training_set_scaled[i-125:i,0])\n",
    "  y_train.append(training_set_scaled[i,0])\n",
    "  \n"
   ]
  },
  {
   "cell_type": "code",
   "execution_count": 25,
   "metadata": {
    "colab": {
     "base_uri": "https://localhost:8080/",
     "height": 51
    },
    "colab_type": "code",
    "id": "s8k9bGelkdWv",
    "outputId": "47de2c8a-5351-4745-f23e-22b0728124a0"
   },
   "outputs": [
    {
     "name": "stdout",
     "output_type": "stream",
     "text": [
      "1108\n",
      "1108\n"
     ]
    }
   ],
   "source": [
    "print(len(X_train))\n",
    "print(len(y_train))"
   ]
  },
  {
   "cell_type": "markdown",
   "metadata": {},
   "source": [
    "## Converting a list(i.e 1D array) to numpy array(i.e. ND arrays)"
   ]
  },
  {
   "cell_type": "code",
   "execution_count": 29,
   "metadata": {
    "colab": {},
    "colab_type": "code",
    "id": "PrYqKW8iqrz7"
   },
   "outputs": [],
   "source": [
    "X_train,y_train = np.array(X_train),np.array(y_train)"
   ]
  },
  {
   "cell_type": "code",
   "execution_count": 30,
   "metadata": {
    "colab": {
     "base_uri": "https://localhost:8080/",
     "height": 34
    },
    "colab_type": "code",
    "id": "b8_wEKE3qvHL",
    "outputId": "eca8a59d-b3cb-4143-9261-8fe8cdcdcf81"
   },
   "outputs": [
    {
     "data": {
      "text/plain": [
       "(1108, 125)"
      ]
     },
     "execution_count": 30,
     "metadata": {},
     "output_type": "execute_result"
    }
   ],
   "source": [
    "X_train.shape"
   ]
  },
  {
   "cell_type": "code",
   "execution_count": 31,
   "metadata": {
    "colab": {
     "base_uri": "https://localhost:8080/",
     "height": 34
    },
    "colab_type": "code",
    "id": "FQBfsppjrVm8",
    "outputId": "8e5de847-208f-437b-a461-a21aa5410244"
   },
   "outputs": [
    {
     "data": {
      "text/plain": [
       "(1108,)"
      ]
     },
     "execution_count": 31,
     "metadata": {},
     "output_type": "execute_result"
    }
   ],
   "source": [
    "y_train.shape"
   ]
  },
  {
   "cell_type": "code",
   "execution_count": 32,
   "metadata": {
    "colab": {
     "base_uri": "https://localhost:8080/",
     "height": 51
    },
    "colab_type": "code",
    "id": "p2psLcUHrWyq",
    "outputId": "9e6cbec7-576c-432c-dda4-ff86c006509d"
   },
   "outputs": [
    {
     "name": "stdout",
     "output_type": "stream",
     "text": [
      "The no of batches/training examples to the neural network   :   1108\n",
      "The no of time steps for RNN(Recurrent Neural Networks)   :   125\n"
     ]
    }
   ],
   "source": [
    "print(\"The no of batches/training examples to the neural network   :  \",X_train.shape[0])\n",
    "print(\"The no of time steps for RNN(Recurrent Neural Networks)   :  \",X_train.shape[1])"
   ]
  },
  {
   "cell_type": "markdown",
   "metadata": {},
   "source": [
    "# Reshaping the training data \n",
    "#### We have to reshape the training data as the neural network expects the input data to have 4 dimensions to fit into the network."
   ]
  },
  {
   "cell_type": "code",
   "execution_count": 33,
   "metadata": {
    "colab": {},
    "colab_type": "code",
    "id": "_endoCLNrtGs"
   },
   "outputs": [],
   "source": [
    "X_train = np.reshape(X_train,(X_train.shape[0],X_train.shape[1],1))"
   ]
  },
  {
   "cell_type": "code",
   "execution_count": 34,
   "metadata": {
    "colab": {
     "base_uri": "https://localhost:8080/",
     "height": 34
    },
    "colab_type": "code",
    "id": "vzBCnAYusckw",
    "outputId": "bab42494-45ef-4cc8-91ad-ab42219e8bfa"
   },
   "outputs": [
    {
     "data": {
      "text/plain": [
       "(1108, 125, 1)"
      ]
     },
     "execution_count": 34,
     "metadata": {},
     "output_type": "execute_result"
    }
   ],
   "source": [
    "X_train.shape"
   ]
  },
  {
   "cell_type": "markdown",
   "metadata": {
    "colab": {},
    "colab_type": "code",
    "id": "tv9wJwk6sdvz"
   },
   "source": [
    "# Part-2: Building the RNN"
   ]
  },
  {
   "cell_type": "markdown",
   "metadata": {
    "colab": {},
    "colab_type": "code",
    "id": "0hE4ThUVsmAH"
   },
   "source": [
    "### Importing Keras Libraries And Packages"
   ]
  },
  {
   "cell_type": "code",
   "execution_count": 35,
   "metadata": {
    "colab": {},
    "colab_type": "code",
    "id": "Ttd34ZLUsp7k"
   },
   "outputs": [],
   "source": [
    "import tensorflow as tf\n",
    "from tensorflow.keras.models import Sequential\n",
    "from tensorflow.keras.layers import Dense\n",
    "from tensorflow.keras.layers import LSTM\n",
    "from tensorflow.keras.layers import Dropout"
   ]
  },
  {
   "cell_type": "markdown",
   "metadata": {
    "colab": {},
    "colab_type": "code",
    "id": "4jf2lKYbs3Be"
   },
   "source": [
    "### Initializing Our RNN"
   ]
  },
  {
   "cell_type": "code",
   "execution_count": 40,
   "metadata": {
    "colab": {},
    "colab_type": "code",
    "id": "OuU3W1r4s8vE"
   },
   "outputs": [],
   "source": [
    "regressor = Sequential()"
   ]
  },
  {
   "cell_type": "markdown",
   "metadata": {
    "colab": {},
    "colab_type": "code",
    "id": "oO0n-Mr_s_Do"
   },
   "source": [
    "### Adding the First LSTM Layer and some Dropout Regularization\n",
    "##### We are using dropout regularization so that our neural network doesnot overfit much to the training data.\n"
   ]
  },
  {
   "cell_type": "code",
   "execution_count": 41,
   "metadata": {
    "colab": {},
    "colab_type": "code",
    "id": "RbIj8KFLtHBL"
   },
   "outputs": [],
   "source": [
    "regressor.add(LSTM(units=100, return_sequences = True,input_shape=(X_train.shape[1],1)))\n",
    "regressor.add(Dropout(0.25))"
   ]
  },
  {
   "cell_type": "markdown",
   "metadata": {
    "colab": {},
    "colab_type": "code",
    "id": "67WHw-J0tYKF"
   },
   "source": [
    "### Adding the Second LSTM Layer and some Dropout Regularization"
   ]
  },
  {
   "cell_type": "code",
   "execution_count": 42,
   "metadata": {
    "colab": {},
    "colab_type": "code",
    "id": "YlxGj1kDtq76"
   },
   "outputs": [],
   "source": [
    "regressor.add(LSTM(units=100,return_sequences=True))\n",
    "regressor.add(Dropout(0.25))"
   ]
  },
  {
   "cell_type": "markdown",
   "metadata": {
    "colab": {},
    "colab_type": "code",
    "id": "mpbYSDoUtzuM"
   },
   "source": [
    "### Adding the Third LSTM Layer and some Dropout Regularization"
   ]
  },
  {
   "cell_type": "code",
   "execution_count": 43,
   "metadata": {
    "colab": {},
    "colab_type": "code",
    "id": "2QoNftY_t-Na"
   },
   "outputs": [],
   "source": [
    "regressor.add(LSTM(units=125,return_sequences=True))\n",
    "regressor.add(Dropout(0.25))"
   ]
  },
  {
   "cell_type": "markdown",
   "metadata": {
    "colab": {},
    "colab_type": "code",
    "id": "g7L3LDZDuGQY"
   },
   "source": [
    "### Adding the Fourth LSTM Layer and some Dropout Regularization"
   ]
  },
  {
   "cell_type": "code",
   "execution_count": 44,
   "metadata": {
    "colab": {},
    "colab_type": "code",
    "id": "vLjTe7pjuLDx"
   },
   "outputs": [],
   "source": [
    "regressor.add(LSTM(units=125,return_sequences=False))\n",
    "regressor.add(Dropout(0.25))"
   ]
  },
  {
   "cell_type": "markdown",
   "metadata": {
    "colab": {},
    "colab_type": "code",
    "id": "l64VBPB7uXCN"
   },
   "source": [
    "### Adding the output Dense Layer"
   ]
  },
  {
   "cell_type": "code",
   "execution_count": 45,
   "metadata": {
    "colab": {},
    "colab_type": "code",
    "id": "9LFacnGsueYg"
   },
   "outputs": [],
   "source": [
    "regressor.add(Dense(units=1))"
   ]
  },
  {
   "cell_type": "markdown",
   "metadata": {
    "colab": {},
    "colab_type": "code",
    "id": "aiM4DpOp15x5"
   },
   "source": [
    "## Compiling the model"
   ]
  },
  {
   "cell_type": "code",
   "execution_count": 46,
   "metadata": {
    "colab": {},
    "colab_type": "code",
    "id": "dCjW0B2o19O1"
   },
   "outputs": [],
   "source": [
    " regressor.compile(optimizer='adam',loss='mean_squared_error')"
   ]
  },
  {
   "cell_type": "markdown",
   "metadata": {
    "colab": {},
    "colab_type": "code",
    "id": "6owVwPDSuvS4"
   },
   "source": [
    "### Fitting the RNN to the Training Set"
   ]
  },
  {
   "cell_type": "code",
   "execution_count": 47,
   "metadata": {
    "colab": {
     "base_uri": "https://localhost:8080/",
     "height": 1000
    },
    "colab_type": "code",
    "id": "diTyem8Bu8G3",
    "outputId": "8c475775-90dd-4d72-d65f-d65ccd2d8b12"
   },
   "outputs": [
    {
     "name": "stdout",
     "output_type": "stream",
     "text": [
      "Epoch 1/100\n",
      "1108/1108 [==============================] - 24s 22ms/sample - loss: 0.0522\n",
      "Epoch 2/100\n",
      "1108/1108 [==============================] - 22s 20ms/sample - loss: 0.0093\n",
      "Epoch 3/100\n",
      "1108/1108 [==============================] - 22s 20ms/sample - loss: 0.0076\n",
      "Epoch 4/100\n",
      "1108/1108 [==============================] - 25s 22ms/sample - loss: 0.0065\n",
      "Epoch 5/100\n",
      "1108/1108 [==============================] - 24s 22ms/sample - loss: 0.0075\n",
      "Epoch 6/100\n",
      "1108/1108 [==============================] - 24s 21ms/sample - loss: 0.0073\n",
      "Epoch 7/100\n",
      "1108/1108 [==============================] - 25s 22ms/sample - loss: 0.0060\n",
      "Epoch 8/100\n",
      "1108/1108 [==============================] - 22s 20ms/sample - loss: 0.0057\n",
      "Epoch 9/100\n",
      "1108/1108 [==============================] - 25s 23ms/sample - loss: 0.0055\n",
      "Epoch 10/100\n",
      "1108/1108 [==============================] - 23s 20ms/sample - loss: 0.0055\n",
      "Epoch 11/100\n",
      "1108/1108 [==============================] - 23s 21ms/sample - loss: 0.0054\n",
      "Epoch 12/100\n",
      "1108/1108 [==============================] - 22s 20ms/sample - loss: 0.0059\n",
      "Epoch 13/100\n",
      "1108/1108 [==============================] - 21s 19ms/sample - loss: 0.0053\n",
      "Epoch 14/100\n",
      "1108/1108 [==============================] - 21s 19ms/sample - loss: 0.0051\n",
      "Epoch 15/100\n",
      "1108/1108 [==============================] - 21s 19ms/sample - loss: 0.0044\n",
      "Epoch 16/100\n",
      "1108/1108 [==============================] - 21s 19ms/sample - loss: 0.0049\n",
      "Epoch 17/100\n",
      "1108/1108 [==============================] - 21s 19ms/sample - loss: 0.0047\n",
      "Epoch 18/100\n",
      "1108/1108 [==============================] - 21s 19ms/sample - loss: 0.0049\n",
      "Epoch 19/100\n",
      "1108/1108 [==============================] - 22s 19ms/sample - loss: 0.0050\n",
      "Epoch 20/100\n",
      "1108/1108 [==============================] - 22s 20ms/sample - loss: 0.0044\n",
      "Epoch 21/100\n",
      "1108/1108 [==============================] - 22s 20ms/sample - loss: 0.0043\n",
      "Epoch 22/100\n",
      "1108/1108 [==============================] - 23s 21ms/sample - loss: 0.0044\n",
      "Epoch 23/100\n",
      "1108/1108 [==============================] - 23s 21ms/sample - loss: 0.0038\n",
      "Epoch 24/100\n",
      "1108/1108 [==============================] - 22s 20ms/sample - loss: 0.0042\n",
      "Epoch 25/100\n",
      "1108/1108 [==============================] - 23s 21ms/sample - loss: 0.0037\n",
      "Epoch 26/100\n",
      "1108/1108 [==============================] - 23s 20ms/sample - loss: 0.0040\n",
      "Epoch 27/100\n",
      "1108/1108 [==============================] - 21s 19ms/sample - loss: 0.0035\n",
      "Epoch 28/100\n",
      "1108/1108 [==============================] - 21s 19ms/sample - loss: 0.0036\n",
      "Epoch 29/100\n",
      "1108/1108 [==============================] - 20s 18ms/sample - loss: 0.0036\n",
      "Epoch 30/100\n",
      "1108/1108 [==============================] - 23s 21ms/sample - loss: 0.0032\n",
      "Epoch 31/100\n",
      "1108/1108 [==============================] - 21s 19ms/sample - loss: 0.0036\n",
      "Epoch 32/100\n",
      "1108/1108 [==============================] - 23s 21ms/sample - loss: 0.0034\n",
      "Epoch 33/100\n",
      "1108/1108 [==============================] - 21s 19ms/sample - loss: 0.0031\n",
      "Epoch 34/100\n",
      "1108/1108 [==============================] - 21s 19ms/sample - loss: 0.0030\n",
      "Epoch 35/100\n",
      "1108/1108 [==============================] - 21s 19ms/sample - loss: 0.0031\n",
      "Epoch 36/100\n",
      "1108/1108 [==============================] - 22s 20ms/sample - loss: 0.0029\n",
      "Epoch 37/100\n",
      "1108/1108 [==============================] - 22s 20ms/sample - loss: 0.0038\n",
      "Epoch 38/100\n",
      "1108/1108 [==============================] - 21s 19ms/sample - loss: 0.0026\n",
      "Epoch 39/100\n",
      "1108/1108 [==============================] - 20s 18ms/sample - loss: 0.0028\n",
      "Epoch 40/100\n",
      "1108/1108 [==============================] - 22s 20ms/sample - loss: 0.0025\n",
      "Epoch 41/100\n",
      "1108/1108 [==============================] - 20s 18ms/sample - loss: 0.0028\n",
      "Epoch 42/100\n",
      "1108/1108 [==============================] - 20s 18ms/sample - loss: 0.0032\n",
      "Epoch 43/100\n",
      "1108/1108 [==============================] - 21s 19ms/sample - loss: 0.0026\n",
      "Epoch 44/100\n",
      "1108/1108 [==============================] - 21s 19ms/sample - loss: 0.0027\n",
      "Epoch 45/100\n",
      "1108/1108 [==============================] - 22s 20ms/sample - loss: 0.0028\n",
      "Epoch 46/100\n",
      "1108/1108 [==============================] - 22s 20ms/sample - loss: 0.0023\n",
      "Epoch 47/100\n",
      "1108/1108 [==============================] - 20s 18ms/sample - loss: 0.0027\n",
      "Epoch 48/100\n",
      "1108/1108 [==============================] - 20s 18ms/sample - loss: 0.0029\n",
      "Epoch 49/100\n",
      "1108/1108 [==============================] - 23s 21ms/sample - loss: 0.0025\n",
      "Epoch 50/100\n",
      "1108/1108 [==============================] - 21s 19ms/sample - loss: 0.0025\n",
      "Epoch 51/100\n",
      "1108/1108 [==============================] - 20s 18ms/sample - loss: 0.0023\n",
      "Epoch 52/100\n",
      "1108/1108 [==============================] - 20s 18ms/sample - loss: 0.0023\n",
      "Epoch 53/100\n",
      "1108/1108 [==============================] - 21s 19ms/sample - loss: 0.0024\n",
      "Epoch 54/100\n",
      "1108/1108 [==============================] - 20s 18ms/sample - loss: 0.0024\n",
      "Epoch 55/100\n",
      "1108/1108 [==============================] - 21s 19ms/sample - loss: 0.0022\n",
      "Epoch 56/100\n",
      "1108/1108 [==============================] - 20s 18ms/sample - loss: 0.0023\n",
      "Epoch 57/100\n",
      "1108/1108 [==============================] - 22s 20ms/sample - loss: 0.0022\n",
      "Epoch 58/100\n",
      "1108/1108 [==============================] - 22s 20ms/sample - loss: 0.0027\n",
      "Epoch 59/100\n",
      "1108/1108 [==============================] - 22s 19ms/sample - loss: 0.0021\n",
      "Epoch 60/100\n",
      "1108/1108 [==============================] - 23s 20ms/sample - loss: 0.0022\n",
      "Epoch 61/100\n",
      "1108/1108 [==============================] - 22s 20ms/sample - loss: 0.0027\n",
      "Epoch 62/100\n",
      "1108/1108 [==============================] - 21s 19ms/sample - loss: 0.0024\n",
      "Epoch 63/100\n",
      "1108/1108 [==============================] - 21s 19ms/sample - loss: 0.0020\n",
      "Epoch 64/100\n",
      "1108/1108 [==============================] - 21s 19ms/sample - loss: 0.0020\n",
      "Epoch 65/100\n",
      "1108/1108 [==============================] - 22s 20ms/sample - loss: 0.0022\n",
      "Epoch 66/100\n",
      "1108/1108 [==============================] - 22s 19ms/sample - loss: 0.0022\n",
      "Epoch 67/100\n",
      "1108/1108 [==============================] - 22s 19ms/sample - loss: 0.0021\n",
      "Epoch 68/100\n",
      "1108/1108 [==============================] - 21s 19ms/sample - loss: 0.0020\n",
      "Epoch 69/100\n",
      "1108/1108 [==============================] - 21s 19ms/sample - loss: 0.0021\n",
      "Epoch 70/100\n",
      "1108/1108 [==============================] - 22s 20ms/sample - loss: 0.0022\n",
      "Epoch 71/100\n",
      "1108/1108 [==============================] - 21s 19ms/sample - loss: 0.0020\n",
      "Epoch 72/100\n",
      "1108/1108 [==============================] - 21s 19ms/sample - loss: 0.0020\n",
      "Epoch 73/100\n",
      "1108/1108 [==============================] - 22s 20ms/sample - loss: 0.0020\n",
      "Epoch 74/100\n",
      "1108/1108 [==============================] - 21s 19ms/sample - loss: 0.0019\n",
      "Epoch 75/100\n",
      "1108/1108 [==============================] - 21s 19ms/sample - loss: 0.0022\n",
      "Epoch 76/100\n",
      "1108/1108 [==============================] - 21s 19ms/sample - loss: 0.0020\n",
      "Epoch 77/100\n",
      "1108/1108 [==============================] - 21s 19ms/sample - loss: 0.0018\n",
      "Epoch 78/100\n",
      "1108/1108 [==============================] - 21s 19ms/sample - loss: 0.0017\n",
      "Epoch 79/100\n",
      "1108/1108 [==============================] - 21s 19ms/sample - loss: 0.0020\n",
      "Epoch 80/100\n",
      "1108/1108 [==============================] - 22s 19ms/sample - loss: 0.0023\n",
      "Epoch 81/100\n",
      "1108/1108 [==============================] - 22s 20ms/sample - loss: 0.0021\n",
      "Epoch 82/100\n",
      "1108/1108 [==============================] - 24s 22ms/sample - loss: 0.0018\n",
      "Epoch 83/100\n",
      "1108/1108 [==============================] - 22s 20ms/sample - loss: 0.0020\n",
      "Epoch 84/100\n",
      "1108/1108 [==============================] - 23s 21ms/sample - loss: 0.0018\n",
      "Epoch 85/100\n",
      "1108/1108 [==============================] - 22s 20ms/sample - loss: 0.0016\n",
      "Epoch 86/100\n",
      "1108/1108 [==============================] - 22s 20ms/sample - loss: 0.0016\n",
      "Epoch 87/100\n",
      "1108/1108 [==============================] - 22s 20ms/sample - loss: 0.0018\n",
      "Epoch 88/100\n",
      "1108/1108 [==============================] - 22s 20ms/sample - loss: 0.0016\n",
      "Epoch 89/100\n",
      "1108/1108 [==============================] - 22s 20ms/sample - loss: 0.0015\n",
      "Epoch 90/100\n",
      "1108/1108 [==============================] - 22s 19ms/sample - loss: 0.0017\n",
      "Epoch 91/100\n",
      "1108/1108 [==============================] - 21s 19ms/sample - loss: 0.0019\n",
      "Epoch 92/100\n",
      "1108/1108 [==============================] - 22s 20ms/sample - loss: 0.0017\n",
      "Epoch 93/100\n"
     ]
    },
    {
     "name": "stdout",
     "output_type": "stream",
     "text": [
      "1108/1108 [==============================] - 22s 19ms/sample - loss: 0.0016\n",
      "Epoch 94/100\n",
      "1108/1108 [==============================] - 22s 20ms/sample - loss: 0.0015\n",
      "Epoch 95/100\n",
      "1108/1108 [==============================] - 21s 19ms/sample - loss: 0.0016\n",
      "Epoch 96/100\n",
      "1108/1108 [==============================] - 22s 19ms/sample - loss: 0.0017\n",
      "Epoch 97/100\n",
      "1108/1108 [==============================] - 21s 19ms/sample - loss: 0.0015\n",
      "Epoch 98/100\n",
      "1108/1108 [==============================] - 21s 19ms/sample - loss: 0.0016\n",
      "Epoch 99/100\n",
      "1108/1108 [==============================] - 21s 19ms/sample - loss: 0.0017\n",
      "Epoch 100/100\n",
      "1108/1108 [==============================] - 22s 19ms/sample - loss: 0.0015\n"
     ]
    }
   ],
   "source": [
    "history = regressor.fit(X_train,y_train,epochs=100,batch_size=32)"
   ]
  },
  {
   "cell_type": "code",
   "execution_count": 49,
   "metadata": {},
   "outputs": [
    {
     "data": {
      "image/png": "[encoded data removed]",
      "text/plain": [
       "<Figure size 432x288 with 1 Axes>"
      ]
     },
     "metadata": {
      "needs_background": "light"
     },
     "output_type": "display_data"
    }
   ],
   "source": [
    "loss_train = history.history['loss']\n",
    "epochs = range(1,101)\n",
    "plt.plot(epochs, loss_train, 'g', label='Training loss')\n",
    "plt.title('Training loss')\n",
    "plt.xlabel('Epochs')\n",
    "plt.ylabel('Loss')\n",
    "plt.legend()\n",
    "plt.show()"
   ]
  },
  {
   "cell_type": "markdown",
   "metadata": {},
   "source": [
    "## Serializing the model\n",
    "#### To save our trained model, we have to serialize the model architecture and model pretrained weights. So, serializing our model architecture in json file and model weights in h5 file format."
   ]
  },
  {
   "cell_type": "code",
   "execution_count": 51,
   "metadata": {
    "colab": {
     "base_uri": "https://localhost:8080/",
     "height": 34
    },
    "colab_type": "code",
    "id": "tj-O47-F2mse",
    "outputId": "93a37f4f-d0d9-4c06-d31d-7eeb76df0842"
   },
   "outputs": [
    {
     "name": "stdout",
     "output_type": "stream",
     "text": [
      "Saved model to disk\n"
     ]
    }
   ],
   "source": [
    "# serialize model to JSON\n",
    "regressor_model_json = regressor.to_json()\n",
    "with open(\"regressor_model.json\", \"w\") as json_file:\n",
    "    json_file.write(regressor_model_json)\n",
    "# serialize weights to HDF5\n",
    "regressor.save_weights(\"model.h5\")\n",
    "print(\"Saved model to disk\")\n",
    " "
   ]
  },
  {
   "cell_type": "markdown",
   "metadata": {
    "colab": {},
    "colab_type": "code",
    "id": "NyCOvR5n-Ief"
   },
   "source": [
    "## Making the Predictions and visualising the results"
   ]
  },
  {
   "cell_type": "markdown",
   "metadata": {
    "colab": {},
    "colab_type": "code",
    "id": "yE0ERE0J-WO6"
   },
   "source": [
    "### Getting the real stock price of 2018\n"
   ]
  },
  {
   "cell_type": "code",
   "execution_count": 52,
   "metadata": {
    "colab": {},
    "colab_type": "code",
    "id": "TzhNXZHR-bUt"
   },
   "outputs": [],
   "source": [
    "real_stock_price = test_df.iloc[:,1:2].values"
   ]
  },
  {
   "cell_type": "markdown",
   "metadata": {},
   "source": [
    "### Checking the number of rows and columns(shape) of real stock price"
   ]
  },
  {
   "cell_type": "code",
   "execution_count": 53,
   "metadata": {
    "colab": {
     "base_uri": "https://localhost:8080/",
     "height": 34
    },
    "colab_type": "code",
    "id": "457kBlL5-q2I",
    "outputId": "91d60268-8670-4b20-b6c0-8db870845151"
   },
   "outputs": [
    {
     "data": {
      "text/plain": [
       "(26, 1)"
      ]
     },
     "execution_count": 53,
     "metadata": {},
     "output_type": "execute_result"
    }
   ],
   "source": [
    "real_stock_price.shape"
   ]
  },
  {
   "cell_type": "markdown",
   "metadata": {
    "colab": {},
    "colab_type": "code",
    "id": "QULYVZ4B-sNd"
   },
   "source": [
    "### Merging the whole dataset by concatenating\n",
    "#####  The axis = 0 means that the row values of the dataframes are concatenated . The axis =1 is used if we want to concatenate the columns of two dataframes"
   ]
  },
  {
   "cell_type": "code",
   "execution_count": 54,
   "metadata": {
    "colab": {},
    "colab_type": "code",
    "id": "tcBYkfjN-1n0"
   },
   "outputs": [],
   "source": [
    "dataset_total = pd.concat((train_df['open'],test_df['open']),axis=0)"
   ]
  },
  {
   "cell_type": "code",
   "execution_count": 55,
   "metadata": {
    "colab": {
     "base_uri": "https://localhost:8080/",
     "height": 34
    },
    "colab_type": "code",
    "id": "-ZJYljjy_8qe",
    "outputId": "dddb3d09-ecb6-4096-875d-38e8d5ef3955"
   },
   "outputs": [
    {
     "data": {
      "text/plain": [
       "(1259,)"
      ]
     },
     "execution_count": 55,
     "metadata": {},
     "output_type": "execute_result"
    }
   ],
   "source": [
    "dataset_total.shape"
   ]
  },
  {
   "cell_type": "markdown",
   "metadata": {},
   "source": [
    "### Preparing the testing data"
   ]
  },
  {
   "cell_type": "code",
   "execution_count": 56,
   "metadata": {
    "colab": {},
    "colab_type": "code",
    "id": "zpJFYoFmAHoO"
   },
   "outputs": [],
   "source": [
    "inputs = dataset_total[len(dataset_total)-len(test_df)-125:].values"
   ]
  },
  {
   "cell_type": "code",
   "execution_count": 57,
   "metadata": {
    "colab": {
     "base_uri": "https://localhost:8080/",
     "height": 34
    },
    "colab_type": "code",
    "id": "cEY-bYN7Amum",
    "outputId": "ec9a2554-51ad-4246-d82f-a9ac145376c1"
   },
   "outputs": [
    {
     "data": {
      "text/plain": [
       "(151,)"
      ]
     },
     "execution_count": 57,
     "metadata": {},
     "output_type": "execute_result"
    }
   ],
   "source": [
    "inputs.shape"
   ]
  },
  {
   "cell_type": "markdown",
   "metadata": {},
   "source": [
    "###  Reshaping the testing data for evaluating the model."
   ]
  },
  {
   "cell_type": "code",
   "execution_count": 58,
   "metadata": {
    "colab": {},
    "colab_type": "code",
    "id": "Gi5nZYldAoNZ"
   },
   "outputs": [],
   "source": [
    "inputs = inputs.reshape(-1,1)"
   ]
  },
  {
   "cell_type": "code",
   "execution_count": 59,
   "metadata": {
    "colab": {
     "base_uri": "https://localhost:8080/",
     "height": 34
    },
    "colab_type": "code",
    "id": "5crxVU8tA-TR",
    "outputId": "9e6bbd55-1ff7-4a47-ce62-f7d9ef19f1a6"
   },
   "outputs": [
    {
     "data": {
      "text/plain": [
       "(151, 1)"
      ]
     },
     "execution_count": 59,
     "metadata": {},
     "output_type": "execute_result"
    }
   ],
   "source": [
    "inputs.shape"
   ]
  },
  {
   "cell_type": "markdown",
   "metadata": {
    "colab": {},
    "colab_type": "code",
    "id": "B5eFFwkbBEV_"
   },
   "source": [
    "### Scaling the inputs"
   ]
  },
  {
   "cell_type": "code",
   "execution_count": 60,
   "metadata": {
    "colab": {},
    "colab_type": "code",
    "id": "U_nYdE6yA_KQ"
   },
   "outputs": [],
   "source": [
    "inputs = sc.transform(inputs)"
   ]
  },
  {
   "cell_type": "markdown",
   "metadata": {},
   "source": [
    "### Appending the testing data values in a list"
   ]
  },
  {
   "cell_type": "code",
   "execution_count": 61,
   "metadata": {
    "colab": {},
    "colab_type": "code",
    "id": "LniJbBeABHCs"
   },
   "outputs": [],
   "source": [
    "X_test = []\n",
    "for i in range(125,151):\n",
    "  X_test.append(inputs[i-125:i,0])\n",
    "X_test = np.array(X_test)\n"
   ]
  },
  {
   "cell_type": "markdown",
   "metadata": {},
   "source": [
    "### Reshaping the test data for making prediction"
   ]
  },
  {
   "cell_type": "code",
   "execution_count": 62,
   "metadata": {
    "colab": {},
    "colab_type": "code",
    "id": "83P7Ts2ZBIUD"
   },
   "outputs": [],
   "source": [
    "X_test = np.reshape(X_test,(X_test.shape[0],X_test.shape[1],1))"
   ]
  },
  {
   "cell_type": "code",
   "execution_count": 63,
   "metadata": {
    "colab": {
     "base_uri": "https://localhost:8080/",
     "height": 34
    },
    "colab_type": "code",
    "id": "TxwsW_E4B3Da",
    "outputId": "17e095d7-e412-490b-eff7-f9b9d6547dfb"
   },
   "outputs": [
    {
     "data": {
      "text/plain": [
       "(26, 125, 1)"
      ]
     },
     "execution_count": 63,
     "metadata": {},
     "output_type": "execute_result"
    }
   ],
   "source": [
    "X_test.shape"
   ]
  },
  {
   "cell_type": "markdown",
   "metadata": {},
   "source": [
    "### Predict the stock price"
   ]
  },
  {
   "cell_type": "code",
   "execution_count": 65,
   "metadata": {
    "colab": {},
    "colab_type": "code",
    "id": "cTuJXIi9B8pk"
   },
   "outputs": [],
   "source": [
    "predicted_stock_price = regressor.predict(X_test)"
   ]
  },
  {
   "cell_type": "markdown",
   "metadata": {},
   "source": [
    "### Transforming the scaled value to original value using inverse_transform function"
   ]
  },
  {
   "cell_type": "code",
   "execution_count": 66,
   "metadata": {
    "colab": {},
    "colab_type": "code",
    "id": "03UkveE4CCZi"
   },
   "outputs": [],
   "source": [
    "predicted_stock_price = sc.inverse_transform(predicted_stock_price)"
   ]
  },
  {
   "cell_type": "markdown",
   "metadata": {
    "colab": {},
    "colab_type": "code",
    "id": "3P8Jw8xuCJgu"
   },
   "source": [
    "# Visualising the results"
   ]
  },
  {
   "cell_type": "code",
   "execution_count": 67,
   "metadata": {
    "colab": {
     "base_uri": "https://localhost:8080/",
     "height": 295
    },
    "colab_type": "code",
    "id": "8EoSxFzmCVVD",
    "outputId": "f0ed6563-d092-4e68-bc55-18ebe4ba4f34"
   },
   "outputs": [
    {
     "data": {
      "image/png": "[encoded data removed]",
      "text/plain": [
       "<Figure size 432x288 with 1 Axes>"
      ]
     },
     "metadata": {
      "needs_background": "light"
     },
     "output_type": "display_data"
    }
   ],
   "source": [
    "import matplotlib.pyplot as plt\n",
    "plt.plot(real_stock_price,color='red',label='Real Stock Price')\n",
    "plt.plot(predicted_stock_price,color='blue',label='Predicted Stock Price')\n",
    "plt.title(\"Stock Price Prediction\")\n",
    "plt.xlabel('Time in days')\n",
    "plt.ylabel('Stock Price')\n",
    "plt.legend()\n",
    "plt.show()"
   ]
  },
  {
   "cell_type": "markdown",
   "metadata": {
    "colab": {},
    "colab_type": "code",
    "id": "ys2pzUNTWf5V"
   },
   "source": [
    "### Note: For more accuracy you have to experiment by:\n",
    "### 1)adding more lstm layers   2) adding more units in each layer 3) Taking more time steps than 125"
   ]
  },
  {
   "cell_type": "code",
   "execution_count": null,
   "metadata": {},
   "outputs": [],
   "source": []
  }
 ],
 "metadata": {
  "accelerator": "TPU",
  "colab": {
   "collapsed_sections": [],
   "name": "stockdataanalysis.ipynb",
   "provenance": []
  },
  "kernelspec": {
   "display_name": "Python 3",
   "language": "python",
   "name": "python3"
  },
  "language_info": {
   "codemirror_mode": {
    "name": "ipython",
    "version": 3
   },
   "file_extension": ".py",
   "mimetype": "text/x-python",
   "name": "python",
   "nbconvert_exporter": "python",
   "pygments_lexer": "ipython3",
   "version": "3.7.4"
  }
 },
 "nbformat": 4,
 "nbformat_minor": 1
}
