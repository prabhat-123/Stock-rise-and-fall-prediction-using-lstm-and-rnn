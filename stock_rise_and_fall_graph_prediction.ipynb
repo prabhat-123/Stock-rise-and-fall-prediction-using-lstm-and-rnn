{
 "cells": [
  {
   "cell_type": "code",
   "execution_count": 0,
   "metadata": {
    "colab": {},
    "colab_type": "code",
    "id": "YS9ypvOqNMWb"
   },
   "outputs": [],
   "source": [
    "# Importing Libraries"
   ]
  },
  {
   "cell_type": "code",
   "execution_count": 0,
   "metadata": {
    "colab": {},
    "colab_type": "code",
    "id": "P56JwPfFyDBZ"
   },
   "outputs": [],
   "source": [
    "import numpy as np\n",
    "import matplotlib.pyplot as plt\n",
    "import pandas as pd"
   ]
  },
  {
   "cell_type": "code",
   "execution_count": 0,
   "metadata": {
    "colab": {},
    "colab_type": "code",
    "id": "oSv6QSJxyH7Y"
   },
   "outputs": [],
   "source": [
    "#Loading the dataset in a loader\n"
   ]
  },
  {
   "cell_type": "code",
   "execution_count": 0,
   "metadata": {
    "colab": {},
    "colab_type": "code",
    "id": "pe--POZgK6oe"
   },
   "outputs": [],
   "source": [
    "# Loading American AirLines Gropu lnc Stock Value"
   ]
  },
  {
   "cell_type": "code",
   "execution_count": 0,
   "metadata": {
    "colab": {},
    "colab_type": "code",
    "id": "tsJmUcSHQ0RU"
   },
   "outputs": [],
   "source": [
    "df = pd.read_csv(\"E:/deeplearning/RNNS/Stock Analysis/_content_individual_stocks_5yr_individual_stocks_5yr_AAL_data.csv\")"
   ]
  },
  {
   "cell_type": "code",
   "execution_count": 90,
   "metadata": {
    "colab": {
     "base_uri": "https://localhost:8080/",
     "height": 204
    },
    "colab_type": "code",
    "id": "Nkxsc-fjFbO2",
    "outputId": "543c1abd-b8fb-479c-94e1-d63ecb1b4108"
   },
   "outputs": [
    {
     "data": {
      "text/html": [
       "<div>\n",
       "<style scoped>\n",
       "    .dataframe tbody tr th:only-of-type {\n",
       "        vertical-align: middle;\n",
       "    }\n",
       "\n",
       "    .dataframe tbody tr th {\n",
       "        vertical-align: top;\n",
       "    }\n",
       "\n",
       "    .dataframe thead th {\n",
       "        text-align: right;\n",
       "    }\n",
       "</style>\n",
       "<table border=\"1\" class=\"dataframe\">\n",
       "  <thead>\n",
       "    <tr style=\"text-align: right;\">\n",
       "      <th></th>\n",
       "      <th>date</th>\n",
       "      <th>open</th>\n",
       "      <th>high</th>\n",
       "      <th>low</th>\n",
       "      <th>close</th>\n",
       "      <th>volume</th>\n",
       "      <th>Name</th>\n",
       "    </tr>\n",
       "  </thead>\n",
       "  <tbody>\n",
       "    <tr>\n",
       "      <th>0</th>\n",
       "      <td>2013-02-08</td>\n",
       "      <td>15.07</td>\n",
       "      <td>15.12</td>\n",
       "      <td>14.63</td>\n",
       "      <td>14.75</td>\n",
       "      <td>8407500</td>\n",
       "      <td>AAL</td>\n",
       "    </tr>\n",
       "    <tr>\n",
       "      <th>1</th>\n",
       "      <td>2013-02-11</td>\n",
       "      <td>14.89</td>\n",
       "      <td>15.01</td>\n",
       "      <td>14.26</td>\n",
       "      <td>14.46</td>\n",
       "      <td>8882000</td>\n",
       "      <td>AAL</td>\n",
       "    </tr>\n",
       "    <tr>\n",
       "      <th>2</th>\n",
       "      <td>2013-02-12</td>\n",
       "      <td>14.45</td>\n",
       "      <td>14.51</td>\n",
       "      <td>14.10</td>\n",
       "      <td>14.27</td>\n",
       "      <td>8126000</td>\n",
       "      <td>AAL</td>\n",
       "    </tr>\n",
       "    <tr>\n",
       "      <th>3</th>\n",
       "      <td>2013-02-13</td>\n",
       "      <td>14.30</td>\n",
       "      <td>14.94</td>\n",
       "      <td>14.25</td>\n",
       "      <td>14.66</td>\n",
       "      <td>10259500</td>\n",
       "      <td>AAL</td>\n",
       "    </tr>\n",
       "    <tr>\n",
       "      <th>4</th>\n",
       "      <td>2013-02-14</td>\n",
       "      <td>14.94</td>\n",
       "      <td>14.96</td>\n",
       "      <td>13.16</td>\n",
       "      <td>13.99</td>\n",
       "      <td>31879900</td>\n",
       "      <td>AAL</td>\n",
       "    </tr>\n",
       "  </tbody>\n",
       "</table>\n",
       "</div>"
      ],
      "text/plain": [
       "         date   open   high    low  close    volume Name\n",
       "0  2013-02-08  15.07  15.12  14.63  14.75   8407500  AAL\n",
       "1  2013-02-11  14.89  15.01  14.26  14.46   8882000  AAL\n",
       "2  2013-02-12  14.45  14.51  14.10  14.27   8126000  AAL\n",
       "3  2013-02-13  14.30  14.94  14.25  14.66  10259500  AAL\n",
       "4  2013-02-14  14.94  14.96  13.16  13.99  31879900  AAL"
      ]
     },
     "execution_count": 90,
     "metadata": {
      "tags": []
     },
     "output_type": "execute_result"
    }
   ],
   "source": [
    "df.head()"
   ]
  },
  {
   "cell_type": "code",
   "execution_count": 91,
   "metadata": {
    "colab": {
     "base_uri": "https://localhost:8080/",
     "height": 34
    },
    "colab_type": "code",
    "id": "DiZVgyoLFlyT",
    "outputId": "d21fd4cd-0b82-4119-d8c6-45d2d23e8bed"
   },
   "outputs": [
    {
     "data": {
      "text/plain": [
       "(1259, 7)"
      ]
     },
     "execution_count": 91,
     "metadata": {
      "tags": []
     },
     "output_type": "execute_result"
    }
   ],
   "source": [
    "df.shape"
   ]
  },
  {
   "cell_type": "code",
   "execution_count": 92,
   "metadata": {
    "colab": {
     "base_uri": "https://localhost:8080/",
     "height": 255
    },
    "colab_type": "code",
    "id": "PR3GLK7TFxCv",
    "outputId": "2d2f8ac2-5abb-4c5c-965c-d8368fde10aa"
   },
   "outputs": [
    {
     "name": "stdout",
     "output_type": "stream",
     "text": [
      "<class 'pandas.core.frame.DataFrame'>\n",
      "RangeIndex: 1259 entries, 0 to 1258\n",
      "Data columns (total 7 columns):\n",
      " #   Column  Non-Null Count  Dtype  \n",
      "---  ------  --------------  -----  \n",
      " 0   date    1259 non-null   object \n",
      " 1   open    1259 non-null   float64\n",
      " 2   high    1259 non-null   float64\n",
      " 3   low     1259 non-null   float64\n",
      " 4   close   1259 non-null   float64\n",
      " 5   volume  1259 non-null   int64  \n",
      " 6   Name    1259 non-null   object \n",
      "dtypes: float64(4), int64(1), object(2)\n",
      "memory usage: 69.0+ KB\n"
     ]
    }
   ],
   "source": [
    "df.info()"
   ]
  },
  {
   "cell_type": "code",
   "execution_count": 0,
   "metadata": {
    "colab": {},
    "colab_type": "code",
    "id": "Qlbpew4aGD18"
   },
   "outputs": [],
   "source": [
    "import datetime\n",
    "from datetime import datetime "
   ]
  },
  {
   "cell_type": "code",
   "execution_count": 0,
   "metadata": {
    "colab": {},
    "colab_type": "code",
    "id": "LuaXguKwXBVE"
   },
   "outputs": [],
   "source": [
    "# Converting date column into datetime datatype "
   ]
  },
  {
   "cell_type": "code",
   "execution_count": 0,
   "metadata": {
    "colab": {},
    "colab_type": "code",
    "id": "Oi2NHT2cMmCR"
   },
   "outputs": [],
   "source": [
    "df['date'] = pd.to_datetime(df['date'])"
   ]
  },
  {
   "cell_type": "code",
   "execution_count": 96,
   "metadata": {
    "colab": {
     "base_uri": "https://localhost:8080/",
     "height": 255
    },
    "colab_type": "code",
    "id": "2eBON1slW4rm",
    "outputId": "2207d92c-eaf9-4511-f33a-3255569c3aa9"
   },
   "outputs": [
    {
     "name": "stdout",
     "output_type": "stream",
     "text": [
      "<class 'pandas.core.frame.DataFrame'>\n",
      "RangeIndex: 1259 entries, 0 to 1258\n",
      "Data columns (total 7 columns):\n",
      " #   Column  Non-Null Count  Dtype         \n",
      "---  ------  --------------  -----         \n",
      " 0   date    1259 non-null   datetime64[ns]\n",
      " 1   open    1259 non-null   float64       \n",
      " 2   high    1259 non-null   float64       \n",
      " 3   low     1259 non-null   float64       \n",
      " 4   close   1259 non-null   float64       \n",
      " 5   volume  1259 non-null   int64         \n",
      " 6   Name    1259 non-null   object        \n",
      "dtypes: datetime64[ns](1), float64(4), int64(1), object(1)\n",
      "memory usage: 69.0+ KB\n"
     ]
    }
   ],
   "source": [
    "df.info()"
   ]
  },
  {
   "cell_type": "code",
   "execution_count": 0,
   "metadata": {
    "colab": {},
    "colab_type": "code",
    "id": "YZgxypbsW4u9"
   },
   "outputs": [],
   "source": [
    "train_df = df[df['date'].between('2013-01-01','2018-01-01')]\n",
    "test_df = df[df['date'].between('2018-01-01','2018-02-08')]"
   ]
  },
  {
   "cell_type": "code",
   "execution_count": 98,
   "metadata": {
    "colab": {
     "base_uri": "https://localhost:8080/",
     "height": 51
    },
    "colab_type": "code",
    "id": "ReXfAJmyXUYk",
    "outputId": "cd8510ad-4831-40a1-807b-8153874a55f8"
   },
   "outputs": [
    {
     "name": "stdout",
     "output_type": "stream",
     "text": [
      "(1233, 7)\n"
     ]
    },
    {
     "data": {
      "text/plain": [
       "(26, 7)"
      ]
     },
     "execution_count": 98,
     "metadata": {
      "tags": []
     },
     "output_type": "execute_result"
    }
   ],
   "source": [
    "print(train_df.shape)\n",
    "test_df.shape"
   ]
  },
  {
   "cell_type": "code",
   "execution_count": 0,
   "metadata": {
    "colab": {},
    "colab_type": "code",
    "id": "_8VntHC9ibu7"
   },
   "outputs": [],
   "source": [
    "# Use Opening Stock as an indicator to RNNS Stock market trend prediction"
   ]
  },
  {
   "cell_type": "code",
   "execution_count": 0,
   "metadata": {
    "colab": {},
    "colab_type": "code",
    "id": "r520Z0RZcoHY"
   },
   "outputs": [],
   "source": [
    "training_set = train_df.iloc[:,1:2].values"
   ]
  },
  {
   "cell_type": "code",
   "execution_count": 101,
   "metadata": {
    "colab": {
     "base_uri": "https://localhost:8080/",
     "height": 34
    },
    "colab_type": "code",
    "id": "eJJYHCZHc8SO",
    "outputId": "8aae0c78-88d5-4990-d9b1-1282055a503f"
   },
   "outputs": [
    {
     "data": {
      "text/plain": [
       "(1233, 1)"
      ]
     },
     "execution_count": 101,
     "metadata": {
      "tags": []
     },
     "output_type": "execute_result"
    }
   ],
   "source": [
    "training_set.shape"
   ]
  },
  {
   "cell_type": "code",
   "execution_count": 0,
   "metadata": {
    "colab": {},
    "colab_type": "code",
    "id": "eDa7OQl_h6id"
   },
   "outputs": [],
   "source": [
    "# Feature Scaling\n",
    "# Normalisation(Subtracting the xmin from x and dividing by xmax-xmin)"
   ]
  },
  {
   "cell_type": "code",
   "execution_count": 0,
   "metadata": {
    "colab": {},
    "colab_type": "code",
    "id": "5O0_kU6di1Zw"
   },
   "outputs": [],
   "source": [
    "from sklearn.preprocessing import MinMaxScaler"
   ]
  },
  {
   "cell_type": "code",
   "execution_count": 0,
   "metadata": {
    "colab": {},
    "colab_type": "code",
    "id": "Q3WV4PyQi8mn"
   },
   "outputs": [],
   "source": [
    "sc = MinMaxScaler(feature_range=(0,1))\n"
   ]
  },
  {
   "cell_type": "code",
   "execution_count": 0,
   "metadata": {
    "colab": {},
    "colab_type": "code",
    "id": "RF6UzrsJjB2P"
   },
   "outputs": [],
   "source": [
    "training_set_scaled = sc.fit_transform(training_set)"
   ]
  },
  {
   "cell_type": "code",
   "execution_count": 106,
   "metadata": {
    "colab": {
     "base_uri": "https://localhost:8080/",
     "height": 136
    },
    "colab_type": "code",
    "id": "DsOx2nkZjJVj",
    "outputId": "68e24151-d7f8-4c57-9682-66d9d4f33677"
   },
   "outputs": [
    {
     "data": {
      "text/plain": [
       "array([[0.0451462 ],\n",
       "       [0.04093567],\n",
       "       [0.03064327],\n",
       "       ...,\n",
       "       [0.9277193 ],\n",
       "       [0.91953216],\n",
       "       [0.91883041]])"
      ]
     },
     "execution_count": 106,
     "metadata": {
      "tags": []
     },
     "output_type": "execute_result"
    }
   ],
   "source": [
    "training_set_scaled"
   ]
  },
  {
   "cell_type": "code",
   "execution_count": 0,
   "metadata": {
    "colab": {},
    "colab_type": "code",
    "id": "7iAJ9aRHjTzZ"
   },
   "outputs": [],
   "source": [
    "# Creating a data structure with 125 timesteps and 1 output\n"
   ]
  },
  {
   "cell_type": "code",
   "execution_count": 0,
   "metadata": {
    "colab": {},
    "colab_type": "code",
    "id": "eENQOxoDjitW"
   },
   "outputs": [],
   "source": [
    "X_train = []\n",
    "y_train = []\n",
    "for i in range(125,1233):\n",
    "  X_train.append(training_set_scaled[i-125:i,0])\n",
    "  y_train.append(training_set_scaled[i,0])\n",
    "  \n"
   ]
  },
  {
   "cell_type": "code",
   "execution_count": 108,
   "metadata": {
    "colab": {
     "base_uri": "https://localhost:8080/",
     "height": 51
    },
    "colab_type": "code",
    "id": "s8k9bGelkdWv",
    "outputId": "47de2c8a-5351-4745-f23e-22b0728124a0"
   },
   "outputs": [
    {
     "name": "stdout",
     "output_type": "stream",
     "text": [
      "1108\n",
      "1108\n"
     ]
    }
   ],
   "source": [
    "print(len(X_train))\n",
    "print(len(y_train))"
   ]
  },
  {
   "cell_type": "code",
   "execution_count": 0,
   "metadata": {
    "colab": {},
    "colab_type": "code",
    "id": "PrYqKW8iqrz7"
   },
   "outputs": [],
   "source": [
    "X_train,y_train = np.array(X_train),np.array(y_train)"
   ]
  },
  {
   "cell_type": "code",
   "execution_count": 110,
   "metadata": {
    "colab": {
     "base_uri": "https://localhost:8080/",
     "height": 34
    },
    "colab_type": "code",
    "id": "b8_wEKE3qvHL",
    "outputId": "eca8a59d-b3cb-4143-9261-8fe8cdcdcf81"
   },
   "outputs": [
    {
     "data": {
      "text/plain": [
       "(1108, 125)"
      ]
     },
     "execution_count": 110,
     "metadata": {
      "tags": []
     },
     "output_type": "execute_result"
    }
   ],
   "source": [
    "X_train.shape"
   ]
  },
  {
   "cell_type": "code",
   "execution_count": 111,
   "metadata": {
    "colab": {
     "base_uri": "https://localhost:8080/",
     "height": 34
    },
    "colab_type": "code",
    "id": "FQBfsppjrVm8",
    "outputId": "8e5de847-208f-437b-a461-a21aa5410244"
   },
   "outputs": [
    {
     "data": {
      "text/plain": [
       "(1108,)"
      ]
     },
     "execution_count": 111,
     "metadata": {
      "tags": []
     },
     "output_type": "execute_result"
    }
   ],
   "source": [
    "y_train.shape"
   ]
  },
  {
   "cell_type": "code",
   "execution_count": 112,
   "metadata": {
    "colab": {
     "base_uri": "https://localhost:8080/",
     "height": 51
    },
    "colab_type": "code",
    "id": "p2psLcUHrWyq",
    "outputId": "9e6cbec7-576c-432c-dda4-ff86c006509d"
   },
   "outputs": [
    {
     "name": "stdout",
     "output_type": "stream",
     "text": [
      "The no of batches/training examples to the neural network   :   1108\n",
      "The no of time steps for RNN(Recurrent Neural Networks)   :   125\n"
     ]
    }
   ],
   "source": [
    "# Reshaping the training data\n",
    "print(\"The no of batches/training examples to the neural network   :  \",X_train.shape[0])\n",
    "print(\"The no of time steps for RNN(Recurrent Neural Networks)   :  \",X_train.shape[1])"
   ]
  },
  {
   "cell_type": "code",
   "execution_count": 0,
   "metadata": {
    "colab": {},
    "colab_type": "code",
    "id": "_endoCLNrtGs"
   },
   "outputs": [],
   "source": [
    "X_train = np.reshape(X_train,(X_train.shape[0],X_train.shape[1],1))"
   ]
  },
  {
   "cell_type": "code",
   "execution_count": 114,
   "metadata": {
    "colab": {
     "base_uri": "https://localhost:8080/",
     "height": 34
    },
    "colab_type": "code",
    "id": "vzBCnAYusckw",
    "outputId": "bab42494-45ef-4cc8-91ad-ab42219e8bfa"
   },
   "outputs": [
    {
     "data": {
      "text/plain": [
       "(1108, 125, 1)"
      ]
     },
     "execution_count": 114,
     "metadata": {
      "tags": []
     },
     "output_type": "execute_result"
    }
   ],
   "source": [
    "X_train.shape"
   ]
  },
  {
   "cell_type": "code",
   "execution_count": 0,
   "metadata": {
    "colab": {},
    "colab_type": "code",
    "id": "tv9wJwk6sdvz"
   },
   "outputs": [],
   "source": [
    "# Part-2: Building the RNN"
   ]
  },
  {
   "cell_type": "code",
   "execution_count": 0,
   "metadata": {
    "colab": {},
    "colab_type": "code",
    "id": "0hE4ThUVsmAH"
   },
   "outputs": [],
   "source": [
    "# Importing Keras Libraries And Packages"
   ]
  },
  {
   "cell_type": "code",
   "execution_count": 0,
   "metadata": {
    "colab": {},
    "colab_type": "code",
    "id": "Ttd34ZLUsp7k"
   },
   "outputs": [],
   "source": [
    "import tensorflow as tf\n",
    "from tensorflow.keras.models import Sequential\n",
    "from tensorflow.keras.layers import Dense\n",
    "from tensorflow.keras.layers import LSTM\n",
    "from tensorflow.keras.layers import Dropout"
   ]
  },
  {
   "cell_type": "code",
   "execution_count": 0,
   "metadata": {
    "colab": {},
    "colab_type": "code",
    "id": "4jf2lKYbs3Be"
   },
   "outputs": [],
   "source": [
    "# Initializing Our RNN"
   ]
  },
  {
   "cell_type": "code",
   "execution_count": 0,
   "metadata": {
    "colab": {},
    "colab_type": "code",
    "id": "OuU3W1r4s8vE"
   },
   "outputs": [],
   "source": [
    "regressor = Sequential()"
   ]
  },
  {
   "cell_type": "code",
   "execution_count": 0,
   "metadata": {
    "colab": {},
    "colab_type": "code",
    "id": "oO0n-Mr_s_Do"
   },
   "outputs": [],
   "source": [
    "#Adding the First LSTM Layer and some Dropout Regularization\n"
   ]
  },
  {
   "cell_type": "code",
   "execution_count": 0,
   "metadata": {
    "colab": {},
    "colab_type": "code",
    "id": "RbIj8KFLtHBL"
   },
   "outputs": [],
   "source": [
    "regressor.add(LSTM(units=110, return_sequences = True,input_shape=(X_train.shape[1],1)))\n",
    "regressor.add(Dropout(0.3))"
   ]
  },
  {
   "cell_type": "code",
   "execution_count": 0,
   "metadata": {
    "colab": {},
    "colab_type": "code",
    "id": "67WHw-J0tYKF"
   },
   "outputs": [],
   "source": [
    "#Adding the Second LSTM Layer and some Dropout Regularization"
   ]
  },
  {
   "cell_type": "code",
   "execution_count": 0,
   "metadata": {
    "colab": {},
    "colab_type": "code",
    "id": "YlxGj1kDtq76"
   },
   "outputs": [],
   "source": [
    "regressor.add(LSTM(units=110,return_sequences=True))\n",
    "regressor.add(Dropout(0.3))"
   ]
  },
  {
   "cell_type": "code",
   "execution_count": 0,
   "metadata": {
    "colab": {},
    "colab_type": "code",
    "id": "mpbYSDoUtzuM"
   },
   "outputs": [],
   "source": [
    "#Adding the Third LSTM Layer and some Dropout Regularization"
   ]
  },
  {
   "cell_type": "code",
   "execution_count": 0,
   "metadata": {
    "colab": {},
    "colab_type": "code",
    "id": "2QoNftY_t-Na"
   },
   "outputs": [],
   "source": [
    "regressor.add(LSTM(units=110,return_sequences=True))\n",
    "regressor.add(Dropout(0.25))"
   ]
  },
  {
   "cell_type": "code",
   "execution_count": 0,
   "metadata": {
    "colab": {},
    "colab_type": "code",
    "id": "g7L3LDZDuGQY"
   },
   "outputs": [],
   "source": [
    "#Adding the Fourth LSTM Layer and some Dropout Regularization"
   ]
  },
  {
   "cell_type": "code",
   "execution_count": 0,
   "metadata": {
    "colab": {},
    "colab_type": "code",
    "id": "vLjTe7pjuLDx"
   },
   "outputs": [],
   "source": [
    "regressor.add(LSTM(units=125,return_sequences=False))\n",
    "regressor.add(Dropout(0.25))"
   ]
  },
  {
   "cell_type": "code",
   "execution_count": 0,
   "metadata": {
    "colab": {},
    "colab_type": "code",
    "id": "l64VBPB7uXCN"
   },
   "outputs": [],
   "source": [
    "# Adding the output Dense Layer"
   ]
  },
  {
   "cell_type": "code",
   "execution_count": 0,
   "metadata": {
    "colab": {},
    "colab_type": "code",
    "id": "9LFacnGsueYg"
   },
   "outputs": [],
   "source": [
    "regressor.add(Dense(units=1))"
   ]
  },
  {
   "cell_type": "code",
   "execution_count": 0,
   "metadata": {
    "colab": {},
    "colab_type": "code",
    "id": "aiM4DpOp15x5"
   },
   "outputs": [],
   "source": [
    "# Compiling the model"
   ]
  },
  {
   "cell_type": "code",
   "execution_count": 0,
   "metadata": {
    "colab": {},
    "colab_type": "code",
    "id": "dCjW0B2o19O1"
   },
   "outputs": [],
   "source": [
    " regressor.compile(optimizer='adam',loss='mean_squared_error')"
   ]
  },
  {
   "cell_type": "code",
   "execution_count": 0,
   "metadata": {
    "colab": {},
    "colab_type": "code",
    "id": "6owVwPDSuvS4"
   },
   "outputs": [],
   "source": [
    "# Fitting the RNN to the Training Set"
   ]
  },
  {
   "cell_type": "code",
   "execution_count": 132,
   "metadata": {
    "colab": {
     "base_uri": "https://localhost:8080/",
     "height": 1000
    },
    "colab_type": "code",
    "id": "diTyem8Bu8G3",
    "outputId": "8c475775-90dd-4d72-d65f-d65ccd2d8b12"
   },
   "outputs": [
    {
     "name": "stdout",
     "output_type": "stream",
     "text": [
      "Epoch 1/100\n",
      "35/35 [==============================] - 19s 532ms/step - loss: 0.0692\n",
      "Epoch 2/100\n",
      "35/35 [==============================] - 19s 534ms/step - loss: 0.0115\n",
      "Epoch 3/100\n",
      "35/35 [==============================] - 19s 536ms/step - loss: 0.0077\n",
      "Epoch 4/100\n",
      "35/35 [==============================] - 23s 648ms/step - loss: 0.0068\n",
      "Epoch 5/100\n",
      "35/35 [==============================] - 19s 535ms/step - loss: 0.0065\n",
      "Epoch 6/100\n",
      "35/35 [==============================] - 19s 533ms/step - loss: 0.0063\n",
      "Epoch 7/100\n",
      "35/35 [==============================] - 18s 528ms/step - loss: 0.0059\n",
      "Epoch 8/100\n",
      "35/35 [==============================] - 19s 530ms/step - loss: 0.0070\n",
      "Epoch 9/100\n",
      "35/35 [==============================] - 19s 532ms/step - loss: 0.0066\n",
      "Epoch 10/100\n",
      "35/35 [==============================] - 19s 535ms/step - loss: 0.0055\n",
      "Epoch 11/100\n",
      "35/35 [==============================] - 19s 532ms/step - loss: 0.0059\n",
      "Epoch 12/100\n",
      "35/35 [==============================] - 19s 533ms/step - loss: 0.0058\n",
      "Epoch 13/100\n",
      "35/35 [==============================] - 19s 537ms/step - loss: 0.0053\n",
      "Epoch 14/100\n",
      "35/35 [==============================] - 18s 527ms/step - loss: 0.0056\n",
      "Epoch 15/100\n",
      "35/35 [==============================] - 19s 530ms/step - loss: 0.0059\n",
      "Epoch 16/100\n",
      "35/35 [==============================] - 18s 528ms/step - loss: 0.0052\n",
      "Epoch 17/100\n",
      "35/35 [==============================] - 19s 534ms/step - loss: 0.0054\n",
      "Epoch 18/100\n",
      "35/35 [==============================] - 19s 531ms/step - loss: 0.0052\n",
      "Epoch 19/100\n",
      "35/35 [==============================] - 19s 532ms/step - loss: 0.0058\n",
      "Epoch 20/100\n",
      "35/35 [==============================] - 19s 534ms/step - loss: 0.0047\n",
      "Epoch 21/100\n",
      "35/35 [==============================] - 19s 537ms/step - loss: 0.0044\n",
      "Epoch 22/100\n",
      "35/35 [==============================] - 19s 530ms/step - loss: 0.0046\n",
      "Epoch 23/100\n",
      "35/35 [==============================] - 18s 524ms/step - loss: 0.0042\n",
      "Epoch 24/100\n",
      "35/35 [==============================] - 18s 525ms/step - loss: 0.0042\n",
      "Epoch 25/100\n",
      "35/35 [==============================] - 18s 528ms/step - loss: 0.0042\n",
      "Epoch 26/100\n",
      "35/35 [==============================] - 18s 520ms/step - loss: 0.0043\n",
      "Epoch 27/100\n",
      "35/35 [==============================] - 18s 522ms/step - loss: 0.0041\n",
      "Epoch 28/100\n",
      "35/35 [==============================] - 18s 523ms/step - loss: 0.0043\n",
      "Epoch 29/100\n",
      "35/35 [==============================] - 18s 520ms/step - loss: 0.0038\n",
      "Epoch 30/100\n",
      "35/35 [==============================] - 18s 520ms/step - loss: 0.0034\n",
      "Epoch 31/100\n",
      "35/35 [==============================] - 18s 523ms/step - loss: 0.0041\n",
      "Epoch 32/100\n",
      "35/35 [==============================] - 18s 521ms/step - loss: 0.0036\n",
      "Epoch 33/100\n",
      "35/35 [==============================] - 18s 516ms/step - loss: 0.0033\n",
      "Epoch 34/100\n",
      "35/35 [==============================] - 18s 524ms/step - loss: 0.0032\n",
      "Epoch 35/100\n",
      "35/35 [==============================] - 19s 538ms/step - loss: 0.0037\n",
      "Epoch 36/100\n",
      "35/35 [==============================] - 22s 628ms/step - loss: 0.0031\n",
      "Epoch 37/100\n",
      "35/35 [==============================] - 18s 519ms/step - loss: 0.0035\n",
      "Epoch 38/100\n",
      "35/35 [==============================] - 18s 518ms/step - loss: 0.0028\n",
      "Epoch 39/100\n",
      "35/35 [==============================] - 18s 512ms/step - loss: 0.0031\n",
      "Epoch 40/100\n",
      "35/35 [==============================] - 18s 518ms/step - loss: 0.0030\n",
      "Epoch 41/100\n",
      "35/35 [==============================] - 18s 521ms/step - loss: 0.0029\n",
      "Epoch 42/100\n",
      "35/35 [==============================] - 18s 519ms/step - loss: 0.0028\n",
      "Epoch 43/100\n",
      "35/35 [==============================] - 18s 512ms/step - loss: 0.0027\n",
      "Epoch 44/100\n",
      "35/35 [==============================] - 18s 513ms/step - loss: 0.0027\n",
      "Epoch 45/100\n",
      "35/35 [==============================] - 18s 514ms/step - loss: 0.0028\n",
      "Epoch 46/100\n",
      "35/35 [==============================] - 18s 511ms/step - loss: 0.0029\n",
      "Epoch 47/100\n",
      "35/35 [==============================] - 18s 516ms/step - loss: 0.0025\n",
      "Epoch 48/100\n",
      "35/35 [==============================] - 18s 518ms/step - loss: 0.0030\n",
      "Epoch 49/100\n",
      "35/35 [==============================] - 18s 514ms/step - loss: 0.0025\n",
      "Epoch 50/100\n",
      "35/35 [==============================] - 18s 518ms/step - loss: 0.0022\n",
      "Epoch 51/100\n",
      "35/35 [==============================] - 18s 517ms/step - loss: 0.0025\n",
      "Epoch 52/100\n",
      "35/35 [==============================] - 18s 508ms/step - loss: 0.0024\n",
      "Epoch 53/100\n",
      "35/35 [==============================] - 18s 523ms/step - loss: 0.0024\n",
      "Epoch 54/100\n",
      "35/35 [==============================] - 18s 518ms/step - loss: 0.0024\n",
      "Epoch 55/100\n",
      "35/35 [==============================] - 18s 517ms/step - loss: 0.0026\n",
      "Epoch 56/100\n",
      "35/35 [==============================] - 18s 523ms/step - loss: 0.0025\n",
      "Epoch 57/100\n",
      "35/35 [==============================] - 18s 517ms/step - loss: 0.0025\n",
      "Epoch 58/100\n",
      "35/35 [==============================] - 18s 517ms/step - loss: 0.0026\n",
      "Epoch 59/100\n",
      "35/35 [==============================] - 18s 515ms/step - loss: 0.0024\n",
      "Epoch 60/100\n",
      "35/35 [==============================] - 18s 519ms/step - loss: 0.0030\n",
      "Epoch 61/100\n",
      "35/35 [==============================] - 18s 524ms/step - loss: 0.0024\n",
      "Epoch 62/100\n",
      "35/35 [==============================] - 18s 517ms/step - loss: 0.0023\n",
      "Epoch 63/100\n",
      "35/35 [==============================] - 18s 522ms/step - loss: 0.0025\n",
      "Epoch 64/100\n",
      "35/35 [==============================] - 18s 519ms/step - loss: 0.0023\n",
      "Epoch 65/100\n",
      "35/35 [==============================] - 18s 512ms/step - loss: 0.0019\n",
      "Epoch 66/100\n",
      "35/35 [==============================] - 18s 518ms/step - loss: 0.0023\n",
      "Epoch 67/100\n",
      "35/35 [==============================] - 18s 522ms/step - loss: 0.0021\n",
      "Epoch 68/100\n",
      "35/35 [==============================] - 18s 519ms/step - loss: 0.0019\n",
      "Epoch 69/100\n",
      "35/35 [==============================] - 18s 525ms/step - loss: 0.0020\n",
      "Epoch 70/100\n",
      "35/35 [==============================] - 18s 524ms/step - loss: 0.0021\n",
      "Epoch 71/100\n",
      "35/35 [==============================] - 18s 520ms/step - loss: 0.0017\n",
      "Epoch 72/100\n",
      "35/35 [==============================] - 18s 517ms/step - loss: 0.0020\n",
      "Epoch 73/100\n",
      "35/35 [==============================] - 18s 518ms/step - loss: 0.0019\n",
      "Epoch 74/100\n",
      "35/35 [==============================] - 18s 517ms/step - loss: 0.0019\n",
      "Epoch 75/100\n",
      "35/35 [==============================] - 18s 519ms/step - loss: 0.0020\n",
      "Epoch 76/100\n",
      "35/35 [==============================] - 18s 515ms/step - loss: 0.0021\n",
      "Epoch 77/100\n",
      "35/35 [==============================] - 18s 517ms/step - loss: 0.0021\n",
      "Epoch 78/100\n",
      "35/35 [==============================] - 18s 517ms/step - loss: 0.0018\n",
      "Epoch 79/100\n",
      "35/35 [==============================] - 18s 517ms/step - loss: 0.0019\n",
      "Epoch 80/100\n",
      "35/35 [==============================] - 19s 529ms/step - loss: 0.0022\n",
      "Epoch 81/100\n",
      "35/35 [==============================] - 18s 522ms/step - loss: 0.0018\n",
      "Epoch 82/100\n",
      "35/35 [==============================] - 18s 521ms/step - loss: 0.0017\n",
      "Epoch 83/100\n",
      "35/35 [==============================] - 18s 519ms/step - loss: 0.0017\n",
      "Epoch 84/100\n",
      "35/35 [==============================] - 18s 519ms/step - loss: 0.0016\n",
      "Epoch 85/100\n",
      "35/35 [==============================] - 18s 520ms/step - loss: 0.0018\n",
      "Epoch 86/100\n",
      "35/35 [==============================] - 18s 524ms/step - loss: 0.0016\n",
      "Epoch 87/100\n",
      "35/35 [==============================] - 18s 525ms/step - loss: 0.0016\n",
      "Epoch 88/100\n",
      "35/35 [==============================] - 18s 519ms/step - loss: 0.0017\n",
      "Epoch 89/100\n",
      "35/35 [==============================] - 18s 525ms/step - loss: 0.0015\n",
      "Epoch 90/100\n",
      "35/35 [==============================] - 18s 524ms/step - loss: 0.0018\n",
      "Epoch 91/100\n",
      "35/35 [==============================] - 19s 532ms/step - loss: 0.0017\n",
      "Epoch 92/100\n",
      "35/35 [==============================] - 18s 522ms/step - loss: 0.0016\n",
      "Epoch 93/100\n",
      "35/35 [==============================] - 18s 515ms/step - loss: 0.0016\n",
      "Epoch 94/100\n",
      "35/35 [==============================] - 18s 517ms/step - loss: 0.0016\n",
      "Epoch 95/100\n",
      "35/35 [==============================] - 18s 515ms/step - loss: 0.0015\n",
      "Epoch 96/100\n",
      "35/35 [==============================] - 18s 520ms/step - loss: 0.0015\n",
      "Epoch 97/100\n",
      "35/35 [==============================] - 18s 517ms/step - loss: 0.0016\n",
      "Epoch 98/100\n",
      "35/35 [==============================] - 18s 522ms/step - loss: 0.0018\n",
      "Epoch 99/100\n",
      "35/35 [==============================] - 18s 513ms/step - loss: 0.0016\n",
      "Epoch 100/100\n",
      "35/35 [==============================] - 18s 515ms/step - loss: 0.0014\n"
     ]
    },
    {
     "data": {
      "text/plain": [
       "<tensorflow.python.keras.callbacks.History at 0x7f4a815602b0>"
      ]
     },
     "execution_count": 132,
     "metadata": {
      "tags": []
     },
     "output_type": "execute_result"
    }
   ],
   "source": [
    "regressor.fit(X_train,y_train,epochs=100,batch_size=32)"
   ]
  },
  {
   "cell_type": "code",
   "execution_count": 0,
   "metadata": {
    "colab": {
     "base_uri": "https://localhost:8080/",
     "height": 34
    },
    "colab_type": "code",
    "id": "tj-O47-F2mse",
    "outputId": "93a37f4f-d0d9-4c06-d31d-7eeb76df0842"
   },
   "outputs": [
    {
     "name": "stdout",
     "output_type": "stream",
     "text": [
      "Saved model to disk\n"
     ]
    }
   ],
   "source": [
    "# # serialize model to JSON\n",
    "# regressor_model_json = regressor.to_json()\n",
    "# with open(\"regressor_model.json\", \"w\") as json_file:\n",
    "#     json_file.write(regressor_model_json)\n",
    "# # serialize weights to HDF5\n",
    "# regressor.save_weights(\"model.h5\")\n",
    "# print(\"Saved model to disk\")\n",
    " "
   ]
  },
  {
   "cell_type": "code",
   "execution_count": 0,
   "metadata": {
    "colab": {},
    "colab_type": "code",
    "id": "NyCOvR5n-Ief"
   },
   "outputs": [],
   "source": [
    "#Making the Predictions and visualising the results"
   ]
  },
  {
   "cell_type": "code",
   "execution_count": 0,
   "metadata": {
    "colab": {},
    "colab_type": "code",
    "id": "yE0ERE0J-WO6"
   },
   "outputs": [],
   "source": [
    "#Getting the real stock price of 2018\n"
   ]
  },
  {
   "cell_type": "code",
   "execution_count": 0,
   "metadata": {
    "colab": {},
    "colab_type": "code",
    "id": "TzhNXZHR-bUt"
   },
   "outputs": [],
   "source": [
    "real_stock_price = test_df.iloc[:,1:2].values"
   ]
  },
  {
   "cell_type": "code",
   "execution_count": 134,
   "metadata": {
    "colab": {
     "base_uri": "https://localhost:8080/",
     "height": 34
    },
    "colab_type": "code",
    "id": "457kBlL5-q2I",
    "outputId": "91d60268-8670-4b20-b6c0-8db870845151"
   },
   "outputs": [
    {
     "data": {
      "text/plain": [
       "(26, 1)"
      ]
     },
     "execution_count": 134,
     "metadata": {
      "tags": []
     },
     "output_type": "execute_result"
    }
   ],
   "source": [
    "real_stock_price.shape"
   ]
  },
  {
   "cell_type": "code",
   "execution_count": 0,
   "metadata": {
    "colab": {},
    "colab_type": "code",
    "id": "QULYVZ4B-sNd"
   },
   "outputs": [],
   "source": [
    "# Getting the predicted stock price of 2017\n"
   ]
  },
  {
   "cell_type": "code",
   "execution_count": 0,
   "metadata": {
    "colab": {},
    "colab_type": "code",
    "id": "tcBYkfjN-1n0"
   },
   "outputs": [],
   "source": [
    "dataset_total = pd.concat((train_df['open'],test_df['open']),axis=0)"
   ]
  },
  {
   "cell_type": "code",
   "execution_count": 136,
   "metadata": {
    "colab": {
     "base_uri": "https://localhost:8080/",
     "height": 34
    },
    "colab_type": "code",
    "id": "-ZJYljjy_8qe",
    "outputId": "dddb3d09-ecb6-4096-875d-38e8d5ef3955"
   },
   "outputs": [
    {
     "data": {
      "text/plain": [
       "(1259,)"
      ]
     },
     "execution_count": 136,
     "metadata": {
      "tags": []
     },
     "output_type": "execute_result"
    }
   ],
   "source": [
    "dataset_total.shape"
   ]
  },
  {
   "cell_type": "code",
   "execution_count": 0,
   "metadata": {
    "colab": {},
    "colab_type": "code",
    "id": "zpJFYoFmAHoO"
   },
   "outputs": [],
   "source": [
    "inputs = dataset_total[len(dataset_total)-len(test_df)-125:].values"
   ]
  },
  {
   "cell_type": "code",
   "execution_count": 138,
   "metadata": {
    "colab": {
     "base_uri": "https://localhost:8080/",
     "height": 34
    },
    "colab_type": "code",
    "id": "cEY-bYN7Amum",
    "outputId": "ec9a2554-51ad-4246-d82f-a9ac145376c1"
   },
   "outputs": [
    {
     "data": {
      "text/plain": [
       "(151,)"
      ]
     },
     "execution_count": 138,
     "metadata": {
      "tags": []
     },
     "output_type": "execute_result"
    }
   ],
   "source": [
    "inputs.shape"
   ]
  },
  {
   "cell_type": "code",
   "execution_count": 0,
   "metadata": {
    "colab": {},
    "colab_type": "code",
    "id": "Gi5nZYldAoNZ"
   },
   "outputs": [],
   "source": [
    "inputs = inputs.reshape(-1,1)"
   ]
  },
  {
   "cell_type": "code",
   "execution_count": 140,
   "metadata": {
    "colab": {
     "base_uri": "https://localhost:8080/",
     "height": 34
    },
    "colab_type": "code",
    "id": "5crxVU8tA-TR",
    "outputId": "9e6bbd55-1ff7-4a47-ce62-f7d9ef19f1a6"
   },
   "outputs": [
    {
     "data": {
      "text/plain": [
       "(151, 1)"
      ]
     },
     "execution_count": 140,
     "metadata": {
      "tags": []
     },
     "output_type": "execute_result"
    }
   ],
   "source": [
    "inputs.shape"
   ]
  },
  {
   "cell_type": "code",
   "execution_count": 0,
   "metadata": {
    "colab": {},
    "colab_type": "code",
    "id": "B5eFFwkbBEV_"
   },
   "outputs": [],
   "source": [
    "# Scaling the inputs"
   ]
  },
  {
   "cell_type": "code",
   "execution_count": 0,
   "metadata": {
    "colab": {},
    "colab_type": "code",
    "id": "U_nYdE6yA_KQ"
   },
   "outputs": [],
   "source": [
    "inputs = sc.transform(inputs)"
   ]
  },
  {
   "cell_type": "code",
   "execution_count": 0,
   "metadata": {
    "colab": {},
    "colab_type": "code",
    "id": "LniJbBeABHCs"
   },
   "outputs": [],
   "source": [
    "X_test = []\n",
    "for i in range(125,151):\n",
    "  X_test.append(inputs[i-125:i,0])\n",
    "X_test = np.array(X_test)\n"
   ]
  },
  {
   "cell_type": "code",
   "execution_count": 0,
   "metadata": {
    "colab": {},
    "colab_type": "code",
    "id": "83P7Ts2ZBIUD"
   },
   "outputs": [],
   "source": [
    "X_test = np.reshape(X_test,(X_test.shape[0],X_test.shape[1],1))"
   ]
  },
  {
   "cell_type": "code",
   "execution_count": 145,
   "metadata": {
    "colab": {
     "base_uri": "https://localhost:8080/",
     "height": 34
    },
    "colab_type": "code",
    "id": "TxwsW_E4B3Da",
    "outputId": "17e095d7-e412-490b-eff7-f9b9d6547dfb"
   },
   "outputs": [
    {
     "data": {
      "text/plain": [
       "(26, 125, 1)"
      ]
     },
     "execution_count": 145,
     "metadata": {
      "tags": []
     },
     "output_type": "execute_result"
    }
   ],
   "source": [
    "X_test.shape"
   ]
  },
  {
   "cell_type": "code",
   "execution_count": 0,
   "metadata": {
    "colab": {},
    "colab_type": "code",
    "id": "cTuJXIi9B8pk"
   },
   "outputs": [],
   "source": [
    "predicted_stock_price = regressor.predict(X_test)"
   ]
  },
  {
   "cell_type": "code",
   "execution_count": 0,
   "metadata": {
    "colab": {},
    "colab_type": "code",
    "id": "03UkveE4CCZi"
   },
   "outputs": [],
   "source": [
    "predicted_stock_price = sc.inverse_transform(predicted_stock_price)"
   ]
  },
  {
   "cell_type": "code",
   "execution_count": 0,
   "metadata": {
    "colab": {},
    "colab_type": "code",
    "id": "3P8Jw8xuCJgu"
   },
   "outputs": [],
   "source": [
    "# Visualising the results"
   ]
  },
  {
   "cell_type": "code",
   "execution_count": 0,
   "metadata": {
    "colab": {},
    "colab_type": "code",
    "id": "resk5nuDCLzV"
   },
   "outputs": [],
   "source": [
    "import matplotlib.pyplot as plt"
   ]
  },
  {
   "cell_type": "code",
   "execution_count": 150,
   "metadata": {
    "colab": {
     "base_uri": "https://localhost:8080/",
     "height": 295
    },
    "colab_type": "code",
    "id": "8EoSxFzmCVVD",
    "outputId": "f0ed6563-d092-4e68-bc55-18ebe4ba4f34"
   },
   "outputs": [
    {
     "data": {
      "image/png": "[encoded data removed]",
      "text/plain": [
       "<Figure size 432x288 with 1 Axes>"
      ]
     },
     "metadata": {
      "needs_background": "light",
      "tags": []
     },
     "output_type": "display_data"
    }
   ],
   "source": [
    "plt.plot(real_stock_price,color='red',label='Real Stock Price')\n",
    "plt.plot(predicted_stock_price,color='blue',label='Predicted Stock Price')\n",
    "plt.title(\"Stock Price Prediction\")\n",
    "plt.xlabel('Time')\n",
    "plt.ylabel('Stock Price')\n",
    "plt.legend()\n",
    "plt.show()"
   ]
  },
  {
   "cell_type": "code",
   "execution_count": 0,
   "metadata": {
    "colab": {},
    "colab_type": "code",
    "id": "ys2pzUNTWf5V"
   },
   "outputs": [],
   "source": []
  }
 ],
 "metadata": {
  "accelerator": "TPU",
  "colab": {
   "collapsed_sections": [],
   "name": "stockdataanalysis.ipynb",
   "provenance": []
  },
  "kernelspec": {
   "display_name": "Python 3",
   "language": "python",
   "name": "python3"
  },
  "language_info": {
   "codemirror_mode": {
    "name": "ipython",
    "version": 3
   },
   "file_extension": ".py",
   "mimetype": "text/x-python",
   "name": "python",
   "nbconvert_exporter": "python",
   "pygments_lexer": "ipython3",
   "version": "3.7.4"
  }
 },
 "nbformat": 4,
 "nbformat_minor": 1
}
